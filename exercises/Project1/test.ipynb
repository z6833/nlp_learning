{
 "cells": [
  {
   "cell_type": "code",
   "execution_count": 22,
   "metadata": {},
   "outputs": [],
   "source": [
    "import pandas as pd\n",
    "import numpy as np"
   ]
  },
  {
   "cell_type": "code",
   "execution_count": 212,
   "metadata": {},
   "outputs": [],
   "source": [
    "def create_dic_words():\n",
    "    word_list = pd.read_excel(r\"./data/综合类中文词库.xlsx\", header=None)[0].tolist()\n",
    "\n",
    "    word_prob = {\"北京\":0.03,\"的\":0.08,\"天\":0.005,\"气\":0.005,\"天气\":0.06,\"真\":0.04,\"好\":0.05,\"真好\":0.04,\"啊\":0.01,\"真好啊\":0.02,\n",
    "                 \"今\":0.01,\"今天\":0.07,\"课程\":0.06,\"内容\":0.06,\"有\":0.05,\"很\":0.03,\"很有\":0.04,\"意思\":0.06,\"有意思\":0.005,\"课\":0.01,\n",
    "                 \"程\":0.005,\"经常\":0.08,\"意见\":0.08,\"意\":0.01,\"见\":0.005,\"有意见\":0.02,\"分歧\":0.04,\"分\":0.02, \"歧\":0.005}\n",
    "    word_dic = {}\n",
    "    max_word_len = 0\n",
    "    for word in word_list:\n",
    "        if len(word) > max_word_len:  # 统计最长词长度\n",
    "            max_word_len = len(word)\n",
    "        if word in word_prob.keys():\n",
    "            word_dic[word] =word_prob[word]\n",
    "        else:\n",
    "            word_dic[word] = 0.00001\n",
    "\n",
    "    count_words = len(word_list)\n",
    "    # print(max_word_len)\n",
    "    # print(count_words)\n",
    "    return max_word_len, word_dic"
   ]
  },
  {
   "cell_type": "code",
   "execution_count": 214,
   "metadata": {},
   "outputs": [],
   "source": [
    "input_str=\"今天的课程内容很有意思\""
   ]
  },
  {
   "cell_type": "code",
   "execution_count": 216,
   "metadata": {},
   "outputs": [],
   "source": [
    "max_word_len, word_dic = create_dic_words()"
   ]
  },
  {
   "cell_type": "code",
   "execution_count": 244,
   "metadata": {},
   "outputs": [],
   "source": [
    "def word_lcut(input_str):\n",
    "    len_input_str = len(input_str)\n",
    "    segment_list = []\n",
    "#     print(input_str)\n",
    "    max_split = min(len_input_str, max_word_len)\n",
    "#     print(max_split)\n",
    "    for index in range(1, max_split + 1):\n",
    "    #\n",
    "        word = input_str[:index]\n",
    "        print(word)\n",
    "    #\n",
    "        if word in word_dic.keys():\n",
    "            print(word)\n",
    "#             segment_list.append(word)\n",
    "#             sub_input_str = input_str[index:-1]\n",
    "#             word_lcut(sub_input_str)\n",
    "            \n",
    "#     print(segment_list)\n"
   ]
  },
  {
   "cell_type": "code",
   "execution_count": 245,
   "metadata": {},
   "outputs": [
    {
     "name": "stdout",
     "output_type": "stream",
     "text": [
      "今\n",
      "今天\n"
     ]
    }
   ],
   "source": [
    "segments = word_lcut(input_str)"
   ]
  },
  {
   "cell_type": "code",
   "execution_count": 213,
   "metadata": {},
   "outputs": [
    {
     "name": "stdout",
     "output_type": "stream",
     "text": [
      "今天的课程内容很有意思\n"
     ]
    }
   ],
   "source": [
    "\n",
    "\n",
    "def word_segment_naive(input_str):\n",
    "\n",
    "    def word_lcut(input_str):\n",
    "        \"\"\"\n",
    "        based on enmu\n",
    "        :param input_str:\n",
    "        :param word_dic:\n",
    "        :return:\n",
    "        \"\"\"\n",
    "        len_input_str = len(input_str)\n",
    "        segment_list = []\n",
    "        print(input_str)\n",
    "        max_split = min(len_input_str, max_word_len)\n",
    "        # for index in range(1, max_split + 1):\n",
    "        #\n",
    "        #     word = input_str[:index]\n",
    "        #\n",
    "        #     if word in word_dic.keys():\n",
    "        #         sub_input_str = word_lcut(input_str[index:-1])\n",
    "        #         print(sub_input_str)\n",
    "\n",
    "    max_word_len, word_dic = create_dic_words()\n",
    "    segments = word_lcut(input_str)\n",
    "    \n",
    "word_segment_naive(\"今天的课程内容很有意思\")"
   ]
  },
  {
   "cell_type": "code",
   "execution_count": null,
   "metadata": {},
   "outputs": [],
   "source": []
  }
 ],
 "metadata": {
  "kernelspec": {
   "display_name": "Python 3",
   "language": "python",
   "name": "python3"
  },
  "language_info": {
   "codemirror_mode": {
    "name": "ipython",
    "version": 3
   },
   "file_extension": ".py",
   "mimetype": "text/x-python",
   "name": "python",
   "nbconvert_exporter": "python",
   "pygments_lexer": "ipython3",
   "version": "3.7.6"
  }
 },
 "nbformat": 4,
 "nbformat_minor": 4
}
