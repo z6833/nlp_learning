{
 "cells": [
  {
   "cell_type": "code",
   "execution_count": 22,
   "metadata": {},
   "outputs": [],
   "source": [
    "import pandas as pd\n",
    "import numpy as np"
   ]
  },
  {
   "cell_type": "code",
   "execution_count": 23,
   "metadata": {},
   "outputs": [
    {
     "name": "stdout",
     "output_type": "stream",
     "text": [
      "     0       1       2\n",
      "0    酢    9  @  237692\n",
      "1  做做事  120  v  191456\n",
      "2  做做饭  134  n   95350\n"
     ]
    }
   ],
   "source": [
    "df = pd.read_excel(r\"./data/综合类中文词库.xlsx\", header=None)\n",
    "print(df.head(3))"
   ]
  },
  {
   "cell_type": "code",
   "execution_count": 24,
   "metadata": {},
   "outputs": [],
   "source": [
    "word_dic = [i for i in df[0]]"
   ]
  },
  {
   "cell_type": "code",
   "execution_count": 134,
   "metadata": {},
   "outputs": [
    {
     "name": "stdout",
     "output_type": "stream",
     "text": [
      "1.0000000000000002\n"
     ]
    }
   ],
   "source": [
    "word_prob = {\"北京\":0.03,\"的\":0.08,\"天\":0.005,\"气\":0.005,\"天气\":0.06,\"真\":0.04,\"好\":0.05,\"真好\":0.04,\"啊\":0.01,\"真好啊\":0.02, \n",
    "             \"今\":0.01,\"今天\":0.07,\"课程\":0.06,\"内容\":0.06,\"有\":0.05,\"很\":0.03,\"很有\":0.04,\"意思\":0.06,\"有意思\":0.005,\"课\":0.01,\n",
    "             \"程\":0.005,\"经常\":0.08,\"意见\":0.08,\"意\":0.01,\"见\":0.005,\"有意见\":0.02,\"分歧\":0.04,\"分\":0.02, \"歧\":0.005}\n",
    "\n",
    "print (sum(word_prob.values()))"
   ]
  },
  {
   "cell_type": "code",
   "execution_count": 135,
   "metadata": {},
   "outputs": [
    {
     "name": "stdout",
     "output_type": "stream",
     "text": [
      "16\n"
     ]
    }
   ],
   "source": [
    "### based on max matching （最大匹配）\n",
    "\n",
    "max_match = max([len(i) for i in word_dic])\n",
    "print(max_match)"
   ]
  },
  {
   "cell_type": "code",
   "execution_count": 152,
   "metadata": {},
   "outputs": [
    {
     "data": {
      "text/plain": [
       "'北京的天气真好啊'"
      ]
     },
     "execution_count": 152,
     "metadata": {},
     "output_type": "execute_result"
    }
   ],
   "source": [
    "input_str"
   ]
  },
  {
   "cell_type": "code",
   "execution_count": 202,
   "metadata": {},
   "outputs": [],
   "source": [
    "def word_broke(input_str, word_dic):\n",
    "\n",
    "    sent_list = []\n",
    "    def sentence_seg(input_string):\n",
    "#         print(input_string)\n",
    "        # max_match = 5\n",
    "        len_input_str = len(input_string)\n",
    "        max_match = min({5, len_input_str})\n",
    "        print(max_match)\n",
    "        \n",
    "        start_index = 0\n",
    "        for end_index in range(max_match):\n",
    "            word = input_string[start_index:max_match-end_index]\n",
    "            print(word)\n",
    "        \n",
    "            if word in word_dic:  # 在词表\n",
    "#                 print(word)\n",
    "                sents = word + \", \" + input_str[max_match-end_index:]\n",
    "#                 print(sents)\n",
    "                break\n",
    "        return sents\n",
    "        #\n",
    "#         result = sents.split(\", \")\n",
    "# #         print(result)\n",
    "#         sent_list.append(result[0])\n",
    "#         print(sent_list)\n",
    "#         input_string = result[1]\n",
    "#         print(input_string)\n",
    "    sents = sentence_seg(input_str)\n",
    "    print(sents)\n",
    "\n",
    "#     sentence_seg(input_string=input_str)\n",
    "\n",
    "#     return sent_list"
   ]
  },
  {
   "cell_type": "code",
   "execution_count": 203,
   "metadata": {},
   "outputs": [
    {
     "name": "stdout",
     "output_type": "stream",
     "text": [
      "5\n",
      "北京的天气\n",
      "北京的天\n",
      "北京的\n",
      "北京\n",
      "北京, 的天气真好啊\n"
     ]
    }
   ],
   "source": [
    "word_broke(input_str, word_dic)"
   ]
  },
  {
   "cell_type": "code",
   "execution_count": null,
   "metadata": {},
   "outputs": [],
   "source": []
  },
  {
   "cell_type": "code",
   "execution_count": null,
   "metadata": {},
   "outputs": [],
   "source": [
    "\n",
    "\n",
    "    "
   ]
  },
  {
   "cell_type": "code",
   "execution_count": null,
   "metadata": {},
   "outputs": [],
   "source": []
  }
 ],
 "metadata": {
  "kernelspec": {
   "display_name": "Python 3",
   "language": "python",
   "name": "python3"
  },
  "language_info": {
   "codemirror_mode": {
    "name": "ipython",
    "version": 3
   },
   "file_extension": ".py",
   "mimetype": "text/x-python",
   "name": "python",
   "nbconvert_exporter": "python",
   "pygments_lexer": "ipython3",
   "version": "3.7.6"
  }
 },
 "nbformat": 4,
 "nbformat_minor": 4
}
